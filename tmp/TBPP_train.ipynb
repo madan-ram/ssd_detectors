{
 "cells": [
  {
   "cell_type": "code",
   "execution_count": null,
   "metadata": {
    "collapsed": true
   },
   "outputs": [],
   "source": [
    "import numpy as np\n",
    "import matplotlib.pyplot as plt\n",
    "import keras\n",
    "import time\n",
    "import os\n",
    "import pickle\n",
    "\n",
    "from tbpp_model import TBPP512, TBPP512_dense, TBPP512_dense_separable\n",
    "from tbpp_utils import PriorUtil\n",
    "from ssd_data import InputGenerator\n",
    "from tbpp_training import TBPPFocalLoss\n",
    "from utils.model import load_weights\n",
    "from utils.training import Logger"
   ]
  },
  {
   "cell_type": "markdown",
   "metadata": {},
   "source": [
    "### Data"
   ]
  },
  {
   "cell_type": "code",
   "execution_count": null,
   "metadata": {
    "collapsed": true
   },
   "outputs": [],
   "source": [
    "from data_synthtext import GTUtility\n",
    "with open('gt_util_synthtext_seglink.pkl', 'rb') as f:\n",
    "    gt_util = pickle.load(f)\n",
    "\n",
    "gt_util_train, gt_util_val = gt_util.split(0.9)"
   ]
  },
  {
   "cell_type": "markdown",
   "metadata": {},
   "source": [
    "### Model"
   ]
  },
  {
   "cell_type": "code",
   "execution_count": null,
   "metadata": {
    "collapsed": true
   },
   "outputs": [],
   "source": [
    "# TextBoxes++\n",
    "model = TBPP512(softmax=False)\n",
    "weights_path = 'models/ssd512_voc_weights_fixed.hdf5'\n",
    "freeze = ['conv1_1', 'conv1_2',\n",
    "          'conv2_1', 'conv2_2',\n",
    "          'conv3_1', 'conv3_2', 'conv3_3',\n",
    "          #'conv4_1', 'conv4_2', 'conv4_3',\n",
    "          #'conv5_1', 'conv5_2', 'conv5_3',\n",
    "         ]\n",
    "batch_size = 24\n",
    "experiment = 'tbpp512fl_synthtext'"
   ]
  },
  {
   "cell_type": "code",
   "execution_count": null,
   "metadata": {
    "collapsed": true
   },
   "outputs": [],
   "source": [
    "# TextBoxes++ with DSOD backbone\n",
    "model = TBPP512_dense(softmax=False)\n",
    "weights_path = None\n",
    "freeze = []\n",
    "batch_size = 6\n",
    "experiment = 'dsodtbpp512fl_synthtext'"
   ]
  },
  {
   "cell_type": "code",
   "execution_count": null,
   "metadata": {},
   "outputs": [],
   "source": [
    "# TextBoxes++ with dense blocks and separable convolution\n",
    "model = TBPP512_dense_separable()\n",
    "weights_path = None\n",
    "freeze = []\n",
    "batch_size = 8\n",
    "experiment = 'dstbpp512fl_synthtext'"
   ]
  },
  {
   "cell_type": "code",
   "execution_count": null,
   "metadata": {},
   "outputs": [],
   "source": []
  },
  {
   "cell_type": "code",
   "execution_count": null,
   "metadata": {
    "collapsed": true
   },
   "outputs": [],
   "source": [
    "prior_util = PriorUtil(model)\n",
    "\n",
    "if weights_path is not None:\n",
    "    load_weights(model, weights_path)"
   ]
  },
  {
   "cell_type": "markdown",
   "metadata": {},
   "source": [
    "### Training"
   ]
  },
  {
   "cell_type": "code",
   "execution_count": null,
   "metadata": {
    "collapsed": true,
    "scrolled": false
   },
   "outputs": [],
   "source": [
    "epochs = 100\n",
    "initial_epoch = 0\n",
    "\n",
    "gen_train = InputGenerator(gt_util_train, prior_util, batch_size, model.image_size)\n",
    "gen_val = InputGenerator(gt_util_val, prior_util, batch_size, model.image_size)\n",
    "\n",
    "for layer in model.layers:\n",
    "    layer.trainable = not layer.name in freeze\n",
    "\n",
    "checkdir = './checkpoints/' + time.strftime('%Y%m%d%H%M') + '_' + experiment\n",
    "if not os.path.exists(checkdir):\n",
    "    os.makedirs(checkdir)\n",
    "\n",
    "with open(checkdir+'/source.py','wb') as f:\n",
    "    source = ''.join(['# In[%i]\\n%s\\n\\n' % (i, In[i]) for i in range(len(In))])\n",
    "    f.write(source.encode())\n",
    "\n",
    "#optim = keras.optimizers.SGD(lr=1e-3, momentum=0.9, decay=0, nesterov=True)\n",
    "optim = keras.optimizers.Adam(lr=1e-3, beta_1=0.9, beta_2=0.999, epsilon=0.001, decay=0.0)\n",
    "\n",
    "# weight decay\n",
    "regularizer = keras.regularizers.l2(5e-4) # None if disabled\n",
    "#regularizer = None\n",
    "for l in model.layers:\n",
    "    if l.__class__.__name__.startswith('Conv'):\n",
    "        l.kernel_regularizer = regularizer\n",
    "\n",
    "loss = TBPPFocalLoss(lambda_conf=10000.0, lambda_offsets=1.0)\n",
    "\n",
    "model.compile(optimizer=optim, loss=loss.compute, metrics=loss.metrics)\n",
    "\n",
    "print(checkdir.split('/')[-1])\n",
    "\n",
    "history = model.fit_generator(\n",
    "        gen_train.generate(),\n",
    "        steps_per_epoch=int(gen_train.num_batches/4), \n",
    "        epochs=epochs, \n",
    "        verbose=1, \n",
    "        callbacks=[\n",
    "            keras.callbacks.ModelCheckpoint(checkdir+'/weights.{epoch:03d}.h5', verbose=1, save_weights_only=True),\n",
    "            Logger(checkdir),\n",
    "            #LearningRateDecay()\n",
    "        ], \n",
    "        validation_data=gen_val.generate(), \n",
    "        validation_steps=gen_val.num_batches, \n",
    "        class_weight=None,\n",
    "        max_queue_size=1, \n",
    "        workers=1, \n",
    "        #use_multiprocessing=False, \n",
    "        initial_epoch=initial_epoch, \n",
    "        #pickle_safe=False, # will use threading instead of multiprocessing, which is lighter on memory use but slower\n",
    "        )"
   ]
  },
  {
   "cell_type": "code",
   "execution_count": null,
   "metadata": {},
   "outputs": [],
   "source": []
  },
  {
   "cell_type": "code",
   "execution_count": null,
   "metadata": {
    "collapsed": true
   },
   "outputs": [],
   "source": [
    "from utils.model import calc_memory_usage, count_parameters\n",
    "count_parameters(model)\n",
    "calc_memory_usage(model)"
   ]
  },
  {
   "cell_type": "code",
   "execution_count": null,
   "metadata": {
    "collapsed": true
   },
   "outputs": [],
   "source": []
  },
  {
   "cell_type": "code",
   "execution_count": null,
   "metadata": {
    "collapsed": true
   },
   "outputs": [],
   "source": [
    "# frequency of class instance in local ground truth, used for weightning the focal loss\n",
    "s = np.zeros(gt_util.num_classes)\n",
    "for i in range(1000):#range(gt_util.num_samples):\n",
    "    egt = prior_util.encode(gt_util.data[i])\n",
    "    s += np.sum(egt[:,-gt_util.num_classes:], axis=0)\n",
    "sn = np.asarray(np.sum(s))/s\n",
    "print(np.array(sn, dtype=np.int32))\n",
    "print(sn/np.sum(sn))"
   ]
  },
  {
   "cell_type": "code",
   "execution_count": null,
   "metadata": {
    "collapsed": true
   },
   "outputs": [],
   "source": []
  },
  {
   "cell_type": "code",
   "execution_count": null,
   "metadata": {
    "collapsed": true
   },
   "outputs": [],
   "source": []
  }
 ],
 "metadata": {
  "kernelspec": {
   "display_name": "Python 3",
   "language": "python",
   "name": "python3"
  },
  "language_info": {
   "codemirror_mode": {
    "name": "ipython",
    "version": 3
   },
   "file_extension": ".py",
   "mimetype": "text/x-python",
   "name": "python",
   "nbconvert_exporter": "python",
   "pygments_lexer": "ipython3",
   "version": "3.5.2"
  },
  "toc": {
   "base_numbering": 1,
   "nav_menu": {},
   "number_sections": true,
   "sideBar": true,
   "skip_h1_title": false,
   "title_cell": "Table of Contents",
   "title_sidebar": "Contents",
   "toc_cell": false,
   "toc_position": {},
   "toc_section_display": true,
   "toc_window_display": false
  }
 },
 "nbformat": 4,
 "nbformat_minor": 2
}
