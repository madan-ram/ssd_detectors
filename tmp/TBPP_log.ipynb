{
 "cells": [
  {
   "cell_type": "code",
   "execution_count": null,
   "metadata": {},
   "outputs": [],
   "source": [
    "import numpy as np\n",
    "import pandas as pd\n",
    "import matplotlib.pyplot as plt\n",
    "import pickle\n",
    "import os\n",
    "\n",
    "from tfkeras.utils.training import plot_log, filter_signal"
   ]
  },
  {
   "cell_type": "code",
   "execution_count": null,
   "metadata": {
    "scrolled": false
   },
   "outputs": [],
   "source": [
    "experiments = !ls -1d ./checkpoints/*tbpp*\n",
    "experiments = [ os.path.split(e)[-1] for e in experiments ]\n",
    "print(*['%3i %s' % (i, v) for i, v in enumerate(experiments)], sep='\\n')"
   ]
  },
  {
   "cell_type": "markdown",
   "metadata": {},
   "source": [
    "### Log"
   ]
  },
  {
   "cell_type": "code",
   "execution_count": null,
   "metadata": {
    "scrolled": false
   },
   "outputs": [],
   "source": [
    "d = experiments[-1]\n",
    "\n",
    "names = [\n",
    "    #'loss',\n",
    "    'conf_loss', 'loc_loss',\n",
    "    'precision', 'recall', \n",
    "    'fmeasure',\n",
    "]\n",
    "#names = None\n",
    "\n",
    "limits = [2000, None]\n",
    "limits = None\n",
    "\n",
    "plot_log(d, names, limits, window_length=2000)"
   ]
  },
  {
   "cell_type": "markdown",
   "metadata": {},
   "source": [
    "### Compare Log"
   ]
  },
  {
   "cell_type": "code",
   "execution_count": null,
   "metadata": {
    "scrolled": false
   },
   "outputs": [],
   "source": [
    "d1 = '201807091503_dsodtbpp512fl_synthtext' # old uploaded\n",
    "d2 = '201906190710_dsodtbpp512fl_synthtext' # uploaded, cl=10000\n",
    "\n",
    "names = [\n",
    "    #'loss',\n",
    "    'conf_loss', 'loc_loss',\n",
    "    'precision', 'recall', \n",
    "    'fmeasure',\n",
    "]\n",
    "#names = None\n",
    "\n",
    "limits = [None, 300000]\n",
    "limits = None\n",
    "\n",
    "plot_log(d1, names, limits, window_length=2000, log_dir_compare=d2)"
   ]
  },
  {
   "cell_type": "code",
   "execution_count": null,
   "metadata": {},
   "outputs": [],
   "source": []
  },
  {
   "cell_type": "code",
   "execution_count": null,
   "metadata": {},
   "outputs": [],
   "source": []
  }
 ],
 "metadata": {
  "kernelspec": {
   "display_name": "Python 3",
   "language": "python",
   "name": "python3"
  },
  "language_info": {
   "codemirror_mode": {
    "name": "ipython",
    "version": 3
   },
   "file_extension": ".py",
   "mimetype": "text/x-python",
   "name": "python",
   "nbconvert_exporter": "python",
   "pygments_lexer": "ipython3",
   "version": "3.5.2"
  }
 },
 "nbformat": 4,
 "nbformat_minor": 2
}
